{
 "cells": [
  {
   "cell_type": "markdown",
   "id": "a238e3b4-0ebd-46cc-b174-750ad0a08b6d",
   "metadata": {},
   "source": [
    "# How to read a TOPS SLC product with xsar ?"
   ]
  },
  {
   "cell_type": "markdown",
   "id": "f9d71fba-1269-4877-bccc-3b09577f0244",
   "metadata": {},
   "source": [
    "the TOPS (IW and EW) SLC products are distributed by ESA in .SAFE directories containing measurement and annotations per subswath and polarizations.\n",
    "\n",
    "\n",
    "For instance in a IW SLC product you will find 6 .tiff files giving the Digital Number of each polarizations/subswath:\n",
    " - s1a-iw1-slc-vh-20210106t164941-20210106t165006-036020-043871-001.tiff  \n",
    " - s1a-iw2-slc-vh-20210106t164942-20210106t165007-036020-043871-002.tiff  \n",
    " - s1a-iw3-slc-vh-20210106t164940-20210106t165008-036020-043871-003.tiff\n",
    " - s1a-iw1-slc-vv-20210106t164941-20210106t165006-036020-043871-004.tiff  \n",
    " - s1a-iw2-slc-vv-20210106t164942-20210106t165007-036020-043871-005.tiff\n",
    " - s1a-iw3-slc-vv-20210106t164940-20210106t165008-036020-043871-006.tiff"
   ]
  },
  {
   "cell_type": "markdown",
   "id": "c3f503c1-37cf-43dd-9b1d-34cc6fd42255",
   "metadata": {},
   "source": [
    "## to open a specific subswath"
   ]
  },
  {
   "cell_type": "code",
   "execution_count": null,
   "id": "4f01f555-7122-4a00-9c1f-2bdf4703105a",
   "metadata": {},
   "outputs": [],
   "source": [
    "import xsar\n",
    "ff_safe = '/home/datawork-cersat-public/project/mpc-sentinel1/data/esa/sentinel-1b/L1/IW/S1B_IW_SLC__1S/2018/001/S1B_IW_SLC__1SDV_20180101T033427_20180101T033454_008972_010031_BC89.SAFE'\n",
    "ff_safe = 'S1A_IW_SLC__1SDV_20170907T102951_20170907T103021_018268_01EB76_Z010.SAFE' #product compressed\n",
    "ff_safe = 'S1A_IW_SLC__1SDV_20170907T103019_20170907T103047_018268_01EB76_5F55.SAFE' #real product on IRMA eye\n",
    "path = xsar.get_test_file(ff_safe)\n",
    "indice_subswath = 2 # from 0 to 2 in IW SLC products\n",
    "sub_swath_IDs = xsar.Sentinel1Meta(path).subdatasets\n",
    "sub_swath_IDs"
   ]
  },
  {
   "cell_type": "code",
   "execution_count": null,
   "id": "405f9786-238c-4408-8207-a15dd6dfae91",
   "metadata": {},
   "outputs": [],
   "source": [
    "s1meta = xsar.sentinel1_meta.Sentinel1Meta(sub_swath_IDs[indice_subswath])\n",
    "s1meta"
   ]
  },
  {
   "cell_type": "markdown",
   "id": "eb545ba5-8f80-4e04-a4e9-3024d2464d88",
   "metadata": {},
   "source": [
    "# what is specific to TOPS SLC products?\n",
    "Contrarily to GRD products SLC ones preserve the signal described in time per burst. \n",
    "\n",
    "It means that a portion of SAR image can be seen up to 4 times by the sensor.\n",
    "\n",
    "The different bursts are overlapping, and the subswaths are also overlapping.\n",
    "\n",
    "SLC products also contains the phase information, and digital number in .tiff products are complex values."
   ]
  },
  {
   "cell_type": "markdown",
   "id": "efe14131-0928-4869-880f-c157dcec520a",
   "metadata": {},
   "source": [
    "## the bursts overlapping areas"
   ]
  },
  {
   "cell_type": "code",
   "execution_count": null,
   "id": "24f6b8f5-8a0b-4f78-a78a-2cf0a1c393ac",
   "metadata": {},
   "outputs": [],
   "source": [
    "import geoviews as gv\n",
    "import holoviews as hv\n",
    "hv.extension('bokeh')\n",
    "all_polys = []\n",
    "for indice_subswath in range(3):\n",
    "    sub_swath_IDs = xsar.Sentinel1Meta(path).subdatasets\n",
    "    s1meta = xsar.sentinel1_meta.Sentinel1Meta(sub_swath_IDs[indice_subswath])\n",
    "    onesubswath_burst_polygons  = gv.Path(s1meta.bursts()['geometry'].apply(s1meta.coords2ll)).opts(width=800,height=450)\n",
    "    all_polys.append(onesubswath_burst_polygons)\n",
    "gv.tile_sources.Wikipedia * gv.Overlay(all_polys)"
   ]
  },
  {
   "cell_type": "markdown",
   "id": "5414f362-4a0c-4425-8ce3-5683de77524c",
   "metadata": {},
   "source": [
    "# load dataset"
   ]
  },
  {
   "cell_type": "code",
   "execution_count": null,
   "id": "cd0d1753-dc49-4b3f-8445-690b117951fd",
   "metadata": {},
   "outputs": [],
   "source": [
    "s1ds = xsar.sentinel1_dataset.Sentinel1Dataset(sub_swath_IDs[indice_subswath])\n",
    "s1ds.dataset"
   ]
  },
  {
   "cell_type": "markdown",
   "id": "9dbf7a01-05b1-4f71-8d36-cb2425604c64",
   "metadata": {},
   "source": [
    "## the azimuth time variable \n",
    "the variable `azimuth_time` is given in annotations .xml files, it describes the date of acquisition of each pixel in the subswath. it is also called SAR \"long time\", in opposition to the \"short time\" given by the `slant_range_time` variable"
   ]
  },
  {
   "cell_type": "code",
   "execution_count": null,
   "id": "affbbe27-2f35-4997-9383-aa0f65842fb8",
   "metadata": {},
   "outputs": [],
   "source": [
    "\n",
    "aziHr = s1ds._burst_azitime\n",
    "hv.Curve(aziHr.values)"
   ]
  },
  {
   "cell_type": "markdown",
   "id": "4d20503c-a59d-4a42-b476-49d40650ed11",
   "metadata": {},
   "source": [
    "`azimuth time` variable estimated at the middle (in range) of the dataset selected is showing the bursts overlapping.\n",
    "\n",
    "This variable is used to rasterize the 7 variables (longitude, latitude,...) described in the `geolocationGrid` at low resolution."
   ]
  },
  {
   "cell_type": "markdown",
   "id": "d0322224-84a8-43aa-a4e8-1a63b0a7881f",
   "metadata": {},
   "source": [
    "## the ground range spacing\n",
    "One specificity of the SLC products is that the ground range spacing is not equal to the slant range spacing (it is the case in GRD products).\n"
   ]
  },
  {
   "cell_type": "code",
   "execution_count": null,
   "id": "c9e46eab-24a9-4719-aa39-edaf85dfcff8",
   "metadata": {},
   "outputs": [],
   "source": [
    "print(s1ds.s1meta.image['ground_pixel_spacing'])\n",
    "print(s1ds.s1meta.image['slant_pixel_spacing'])\n"
   ]
  },
  {
   "cell_type": "markdown",
   "id": "1b757a39-03b0-4d11-89c9-fa763548d3eb",
   "metadata": {},
   "source": [
    "The ground range spacing depends of the incidence angle.\n",
    "\n",
    "$$ grdRangeSpacing = \\frac{slantRangeSpacing}{sinus(\\theta)} $$\n",
    "\n",
    "\n",
    "\n",
    "It is possible for the users to get the ground range spacing vector along the range axis.\n",
    "\n"
   ]
  },
  {
   "cell_type": "markdown",
   "id": "bfb57037-4d76-4134-934f-27787600a4d4",
   "metadata": {},
   "source": []
  },
  {
   "cell_type": "code",
   "execution_count": null,
   "id": "005fa242-477d-491f-bdaf-0ec51359545d",
   "metadata": {},
   "outputs": [],
   "source": [
    "rgs = s1ds.dataset['range_ground_spacing']\n",
    "rgs"
   ]
  },
  {
   "cell_type": "code",
   "execution_count": null,
   "id": "2126e888-b08a-4b23-9238-13f52b034a74",
   "metadata": {},
   "outputs": [],
   "source": [
    "hv.Curve(rgs).opts(width=400,show_grid=True)\n"
   ]
  },
  {
   "cell_type": "markdown",
   "id": "ecf8f606-c60e-4902-aa84-3e9e9fdbf706",
   "metadata": {},
   "source": [
    "## the complex digital number"
   ]
  },
  {
   "cell_type": "code",
   "execution_count": null,
   "id": "17a6fd94-2d33-432e-b076-76e270cd7890",
   "metadata": {},
   "outputs": [],
   "source": [
    "s1ds.dataset['digital_number']"
   ]
  },
  {
   "cell_type": "markdown",
   "id": "8d5cddfa-af90-4f04-bf0a-fff08280d6d9",
   "metadata": {},
   "source": [
    "## nice display roughness"
   ]
  },
  {
   "cell_type": "code",
   "execution_count": null,
   "id": "3888ea31-c522-4e00-9829-f85a86adaf6e",
   "metadata": {},
   "outputs": [],
   "source": [
    "import scipy\n",
    "import xarray\n",
    "import os\n",
    "all_ims = []\n",
    "prev_atrack = 0\n",
    "vmax = None\n",
    "for indice_subswath in range(0,3):\n",
    "    sub_swath_IDs = xsar.Sentinel1Meta(path).subdatasets\n",
    "    s1ds = xsar.sentinel1_dataset.Sentinel1Dataset(sub_swath_IDs[indice_subswath],resolution='100m')\n",
    "    s0 = s1ds.dataset['sigma0'].sel({'pol':'VV'}).real\n",
    "    print(s0.shape)\n",
    "    if False:\n",
    "        s0_averaged = s1ds.dataset['sigma0'].sel({'pol':'VV'}).real.rolling({'atrack':10,'xtrack':10}).mean()\n",
    "        modulation = s0/s0_averaged\n",
    "    else:\n",
    "        modulation = s0\n",
    "    modulation = xarray.where(np.isnan(modulation),0,modulation)\n",
    "    modulation = xarray.where(np.isfinite(modulation)==False,0,modulation)\n",
    "    modulation_detrend = scipy.signal.detrend(modulation, axis=- 1)\n",
    "    if vmax is None:\n",
    "        vmax = np.nanpercentile(modulation_detrend,97)\n",
    "    print('vmax',vmax)\n",
    "    s1ds.dataset['modulation_detrended'] = xarray.DataArray(modulation_detrend,coords=modulation.coords,dims=modulation.dims)\n",
    "    s1ds.dataset = s1ds.dataset.assign_coords({'xtrack':s1ds.dataset.xtrack+prev_atrack})\n",
    "    imi = hv.Image(s1ds.dataset['modulation_detrended'],kdims=['xtrack','atrack']).opts(colorbar=True,\n",
    "                                                                                        cmap='Greys_r',\n",
    "                                                                                        width=1200,\n",
    "                                                                                        height=800,\n",
    "                                                                                       clim=(0,vmax),\n",
    "                                                                                        title=os.path.basename(ff_safe))\n",
    "    prev_atrack += s1ds.s1meta.image['shape'][1]\n",
    "    all_ims.append(imi)\n",
    "\n",
    "hv.Overlay(all_ims)"
   ]
  },
  {
   "cell_type": "markdown",
   "id": "da282af7-2096-4339-a449-bd7a0fa864ce",
   "metadata": {},
   "source": [
    "# additional informations\n",
    "\n",
    " - deramping TOPS SLC : https://sentinels.copernicus.eu/web/sentinel/user-guides/sentinel-1-sar/document-library/-/asset_publisher/1dO7RF5fJMbd/content/definition-of-the-tops-slc-deramping-function-for-products-generated-by-the-sentinel-1-ipf;jsessionid=DCEF041CCD5D10A93C637B6121D4D062.jvm1?redirect=https%3A%2F%2Fsentinels.copernicus.eu%2Fweb%2Fsentinel%2Fuser-guides%2Fsentinel-1-sar%2Fdocument-library%3Bjsessionid%3DDCEF041CCD5D10A93C637B6121D4D062.jvm1%3Fp_p_id%3D101_INSTANCE_1dO7RF5fJMbd%26p_p_lifecycle%3D0%26p_p_state%3Dnormal%26p_p_mode%3Dview%26p_p_col_id%3Dcolumn-1%26p_p_col_count%3D1\n",
    " - TOPS technic: https://sentinels.copernicus.eu/web/sentinel/technical-guides/sentinel-1-sar/products-algorithms/level-1-algorithms/topsar-processing\n",
    " - SLC products: https://sentinel.esa.int/web/sentinel/technical-guides/sentinel-1-sar/products-algorithms/level-1-algorithms/single-look-complex "
   ]
  }
 ],
 "metadata": {
  "kernelspec": {
   "display_name": "xsar_pr46",
   "language": "python",
   "name": "xsar_pr46"
  },
  "language_info": {
   "codemirror_mode": {
    "name": "ipython",
    "version": 3
   },
   "file_extension": ".py",
   "mimetype": "text/x-python",
   "name": "python",
   "nbconvert_exporter": "python",
   "pygments_lexer": "ipython3",
   "version": "3.9.10"
  },
  "toc-autonumbering": true
 },
 "nbformat": 4,
 "nbformat_minor": 5
}
