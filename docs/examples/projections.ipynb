{
 "cells": [
  {
   "cell_type": "markdown",
   "id": "1af65df6-4b1d-4019-96ba-f51d98aadec7",
   "metadata": {},
   "source": [
    "# Projecting data on a map\n",
    "\n",
    "In this example, we will see how to use xsar to project data on a map, or to export to geotiff."
   ]
  },
  {
   "cell_type": "code",
   "execution_count": null,
   "id": "40fd3e6a-67c4-4a0b-9136-a083729e94d4",
   "metadata": {},
   "outputs": [],
   "source": [
    "import xsar\n",
    "import xarray as xr\n",
    "import numpy as np\n",
    "import geoviews as gv\n",
    "gv.extension('bokeh')\n",
    "xr.set_options(display_expand_data=False)"
   ]
  },
  {
   "cell_type": "code",
   "execution_count": null,
   "id": "4e174aac-ce89-4559-826a-c78909da7add",
   "metadata": {},
   "outputs": [],
   "source": [
    "filename = xsar.get_test_file('S1B_IW_GRDH_1SDV_20181013T062322_20181013T062347_013130_018428_Z010.SAFE')\n",
    "s1meta = xsar.Sentinel1Meta(filename)\n",
    "xsar_obj = xsar.Sentinel1Dataset(s1meta, resolution='100m')"
   ]
  },
  {
   "cell_type": "markdown",
   "id": "04a71723-9003-4efb-b651-e40c935b033c",
   "metadata": {},
   "source": [
    "## Reprojecting to epsg 4326, using rioxarray.reproject\n",
    "\n",
    "[xsar.Sentinel1Dataset.rio](../basic_api.rst#xsar.Sentinel1Dataset.rio) returns a `rioxarray.raster_array.RasterArray` object that we can use with [reproject](https://corteva.github.io/rioxarray/stable/rioxarray.html#rioxarray.raster_array.RasterArray.reproject)."
   ]
  },
  {
   "cell_type": "code",
   "execution_count": null,
   "id": "530ac853-1e43-4fbe-b1af-ad6b99dd3d76",
   "metadata": {},
   "outputs": [],
   "source": [
    "sigma0_proj = xsar_obj.rio('sigma0').reproject('epsg:4326',shape=(1000,1000),nodata=np.nan).rename({'x': 'Longitude', 'y': 'Latitude'})"
   ]
  },
  {
   "cell_type": "code",
   "execution_count": null,
   "id": "bb9e2502-58e7-4adb-bd1c-2e1e52ee9e94",
   "metadata": {},
   "outputs": [],
   "source": [
    "sigma0_image = gv.Image(sigma0_proj.sel(pol='VV')).opts(alpha=0.7, cmap='gray', clim=(0,0.05))\n",
    "(gv.tile_sources.Wikipedia * sigma0_image).opts(width=600,height=600)"
   ]
  },
  {
   "cell_type": "markdown",
   "id": "604b45d7-fe32-40d0-bd34-686a41f1097d",
   "metadata": {},
   "source": [
    "## Exporting to geotiff\n",
    "\n",
    "### Exporting without colormap\n",
    "\n",
    "using [rioxarray.raster_array.RasterArray.to_raster](https://corteva.github.io/rioxarray/html/rioxarray.html#rioxarray.raster_array.RasterArray.to_raster), we can save our projected sigma0 to a geotiff"
   ]
  },
  {
   "cell_type": "code",
   "execution_count": null,
   "id": "b9d8658b-a5e3-456f-b046-db180b01d48e",
   "metadata": {},
   "outputs": [],
   "source": [
    "sigma0_proj.sel(pol='VV').rio.to_raster('/tmp/sigma0_nocolor.tiff')"
   ]
  },
  {
   "cell_type": "markdown",
   "id": "2f872bee-95b4-4109-9f54-63da680bd3c9",
   "metadata": {},
   "source": [
    "The geotiff can be read with `gv.load_tiff` but it's stored as float, and we have to pass a cmap. This image cannot be viewed with google earth "
   ]
  },
  {
   "cell_type": "code",
   "execution_count": null,
   "id": "4143b543-6d00-4c02-95ab-dfafe7dae274",
   "metadata": {},
   "outputs": [],
   "source": [
    "gv.tile_sources.Wikipedia * gv.load_tiff('/tmp/sigma0_nocolor.tiff').opts(alpha=0.7, cmap='gray', clim=(0,0.05))"
   ]
  },
  {
   "cell_type": "markdown",
   "id": "b4e8fb2c-d7e9-4247-be51-c51686d423ad",
   "metadata": {},
   "source": [
    "### Exporting with RGBA colormap\n",
    "\n",
    "We have to manually convert the sigma0 floating values to `np.uint8` in the range [0,255]"
   ]
  },
  {
   "cell_type": "code",
   "execution_count": null,
   "id": "04a8eacf-f173-480f-92eb-35340644e4fe",
   "metadata": {},
   "outputs": [],
   "source": [
    "from matplotlib import cm\n",
    "cmap=cm.ScalarMappable(cmap='jet')\n",
    "cmap.set_clim(vmin=0, vmax=0.05)\n",
    "rgb_sigma0 = xr.DataArray(\n",
    "    (cmap.to_rgba(xsar_obj.dataset['sigma0'].sel(pol='VV'), bytes=True)),  \n",
    "    dims=['atrack', 'xtrack', 'band']\n",
    ").transpose('band', 'atrack', 'xtrack')\n",
    "rgb_sigma0\n"
   ]
  },
  {
   "cell_type": "markdown",
   "id": "3570b206-ebac-4bc8-a58a-b3a24b4369a8",
   "metadata": {},
   "source": [
    "`rgb_sigma0` is now an `xarray.DataArray`, with sames spatials dims `['atrack', 'xtrack']`, and an new dim `band` that hold color in R,G,B,A. \n",
    "\n",
    "Note that you must not use rio accessor using `rgb_sigma0.rio`. You have to store this array in `xsar_obj.dataset`, in order to use `xsar_obj.rio('sigma0_rgba')`\n"
   ]
  },
  {
   "cell_type": "code",
   "execution_count": null,
   "id": "6a1fa55c-cb1d-4ff7-9c91-50a06348c01b",
   "metadata": {},
   "outputs": [],
   "source": [
    "xsar_obj.dataset['sigma0_rgba'] = rgb_sigma0 \n",
    "xsar_obj.rio('sigma0_rgba').reproject('epsg:4326',shape=(1000,1000),nodata=0).rio.to_raster('/tmp/sigma0_color.tiff')"
   ]
  },
  {
   "cell_type": "code",
   "execution_count": null,
   "id": "13bf1e5b-4641-4536-b487-28d4062cf1dc",
   "metadata": {},
   "outputs": [],
   "source": [
    "# there is a transparency bug in geoviews (https://github.com/holoviz/geoviews/issues/571)\n",
    "# but if loading this tiff in google earth, it should render properly\n",
    "(gv.tile_sources.Wikipedia * gv.load_tiff('/tmp/sigma0_color.tiff')).opts(width=600,height=600)"
   ]
  },
  {
   "cell_type": "markdown",
   "id": "21a44ee7-e47f-4d95-a29c-2e29198b5cad",
   "metadata": {},
   "source": [
    "## Reprojecting to pre-defined grid\n",
    "\n",
    "We now want to project ecmwf data and sigma0 data to the same grid.\n",
    "\n",
    "The grid is choosen to be 600km*600km , with a spacing of 1km. x and y coords are in **meters**, because we are going to use an **azimuthal equidistant projection**, centered on the xsar dataset"
   ]
  },
  {
   "cell_type": "code",
   "execution_count": null,
   "id": "d0e23462-e809-4b10-b5eb-5f76e46bb9b0",
   "metadata": {},
   "outputs": [],
   "source": [
    "from rasterio.crs import CRS\n",
    "from xsar.raster_readers import ecmwf_0100_1h\n",
    "\n",
    "grid = xr.DataArray(\n",
    "    np.full((601,601), np.nan), \n",
    "    dims=['x','y'], \n",
    "    coords={\n",
    "        'x': np.linspace(-300 * 1000,300 * 1000, 601), \n",
    "        'y': np.linspace(-300 * 1000,300 * 1000, 601)\n",
    "    })\n",
    "\n",
    "\n",
    "crs = CRS({\n",
    "        'proj': 'aeqd',\n",
    "        'lat_0': xsar_obj.s1meta.footprint.centroid.y,\n",
    "        'lon_0': xsar_obj.s1meta.footprint.centroid.x,\n",
    "        'x_0': 0,\n",
    "        'y_0': 0,\n",
    "        'ellps': 'WGS84'\n",
    "    })\n",
    "\n",
    "grid.rio.write_crs(crs, inplace=True)\n",
    "grid"
   ]
  },
  {
   "cell_type": "markdown",
   "id": "02a9d18b-073e-40e7-8e1e-9d8873d30061",
   "metadata": {},
   "source": [
    "Now, we can use [reproject_match](https://corteva.github.io/rioxarray/stable/rioxarray.html#rioxarray.raster_array.RasterArray.reproject_match), to project onto `grid`"
   ]
  },
  {
   "cell_type": "code",
   "execution_count": null,
   "id": "2b614346-a467-46c7-9678-e700515f541a",
   "metadata": {},
   "outputs": [],
   "source": [
    "sigma0_grid = xsar_obj.rio('sigma0').reproject_match(grid,nodata=np.nan).sel(pol='VV')\n",
    "ecmwf_ds = ecmwf_0100_1h(xsar.get_test_file('ECMWF_FORECAST_0100_202109091300_10U_10V.nc'))\n",
    "ecmwf_ds['spd'] = np.sqrt(ecmwf_ds['U10']**2+ecmwf_ds['V10']**2)\n",
    "ecmwf_grid = ecmwf_ds['spd'].rio.reproject_match(grid,nodata=np.nan)\n",
    "\n",
    "# ecmwf_grid and sigma0_grid has the same shape and the same coordinates, we are able to merge them\n",
    "\n",
    "merged_grid = xr.merge([sigma0_grid, ecmwf_grid],combine_attrs='drop')\n",
    "merged_grid"
   ]
  },
  {
   "cell_type": "markdown",
   "id": "0639c842-8e11-4078-b520-f8e307b98826",
   "metadata": {},
   "source": [
    "geoviews and cartopy are not able to handle azimuthal equidistant projection, so we use `holoviews` here.\n",
    "\n",
    "(But note that it will display properly in google earth, if exported to geotiff)"
   ]
  },
  {
   "cell_type": "code",
   "execution_count": null,
   "id": "03cd39e3-5b5a-458c-9173-216f0cea27d5",
   "metadata": {},
   "outputs": [],
   "source": [
    "import holoviews as hv\n",
    "hv.extension('bokeh')\n",
    "hv.Image(merged_grid['spd']).opts(cmap='jet') * hv.Image(merged_grid['sigma0']).opts(cmap='gray', clim=(0,0.05), tools=['hover']) "
   ]
  },
  {
   "cell_type": "markdown",
   "id": "6c4ccade-4bce-48fa-9bf0-2eb25c697fbb",
   "metadata": {},
   "source": [
    "To use holoviews, we can reproject to lon/lat"
   ]
  },
  {
   "cell_type": "code",
   "execution_count": null,
   "id": "e3c49945-7e49-48e4-bf86-653a7cae2b18",
   "metadata": {},
   "outputs": [],
   "source": [
    "merged_lonlat = merged_grid.rio.write_crs(crs).rio.reproject(4326, nodata=np.nan).rename({'x': 'Longitude', 'y': 'Latitude'})\n",
    "(gv.tile_sources.Wikipedia * gv.Image(merged_lonlat['spd']).opts(cmap='jet') * gv.Image(merged_lonlat['sigma0']).opts(cmap='gray', clim=(0,0.05))).opts(width=600,height=600)\n",
    "                                                           "
   ]
  }
 ],
 "metadata": {
  "kernelspec": {
   "display_name": "Python 3 (ipykernel)",
   "language": "python",
   "name": "python3"
  },
  "language_info": {
   "codemirror_mode": {
    "name": "ipython",
    "version": 3
   },
   "file_extension": ".py",
   "mimetype": "text/x-python",
   "name": "python",
   "nbconvert_exporter": "python",
   "pygments_lexer": "ipython3",
   "version": "3.9.10"
  }
 },
 "nbformat": 4,
 "nbformat_minor": 5
}
