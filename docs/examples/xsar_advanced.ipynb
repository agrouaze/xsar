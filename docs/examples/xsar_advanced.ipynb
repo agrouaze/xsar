{
 "cells": [
  {
   "cell_type": "markdown",
   "metadata": {},
   "source": [
    "# XSAR example\n",
    "\n",
    "open a dataset with [xsar.open_dataset](../basic_api.rst#xsar.open_dataset)"
   ]
  },
  {
   "cell_type": "code",
   "execution_count": null,
   "metadata": {},
   "outputs": [],
   "source": [
    "import xsar\n",
    "import os\n",
    "import numpy as np"
   ]
  },
  {
   "cell_type": "code",
   "execution_count": null,
   "metadata": {},
   "outputs": [],
   "source": [
    "# get test file. You can replace with an path to other SAFE\n",
    "filename = xsar.get_test_file('S1A_IW_GRDH_1SDV_20170907T103020_20170907T103045_018268_01EB76_Z200.SAFE')"
   ]
  },
  {
   "cell_type": "markdown",
   "metadata": {},
   "source": [
    "## Open a dataset with a xsar.SentinelMeta object\n",
    "A [xsar.SentinelMeta](../basic_api.rst#xsar.SentinelMeta) object handles all attributes and methods that can't be embdeded in a `xarray.Dataset` object.\n",
    "It can also replace a filename in [xsar.open_dataset](../basic_api.rst#xsar.open_dataset)\n",
    "\n",
    "When using it in a notebook, it also have an html representation."
   ]
  },
  {
   "cell_type": "code",
   "execution_count": null,
   "metadata": {},
   "outputs": [],
   "source": [
    "sar_meta = xsar.SentinelMeta(filename)\n",
    "sar_meta"
   ]
  },
  {
   "cell_type": "markdown",
   "metadata": {},
   "source": [
    "`sar_meta` object is an [xsar.SentinelMeta](../basic_api.rst#xsar.SentinelMeta) object that can be given to  [xsar.open_dataset](../basic_api.rst#xsar.open_dataset) , as if it was a filename:\n"
   ]
  },
  {
   "cell_type": "code",
   "execution_count": null,
   "metadata": {},
   "outputs": [],
   "source": [
    "sar_ds = xsar.open_dataset(sar_meta)\n",
    "sar_ds"
   ]
  },
  {
   "cell_type": "markdown",
   "metadata": {},
   "source": [
    "## Open a dataset at lower resolution\n",
    "We can use `sar_meta` properties to compute the pixel count we need to average to get a resolution of 200*200 meters"
   ]
  },
  {
   "cell_type": "code",
   "execution_count": null,
   "metadata": {},
   "outputs": [],
   "source": [
    "resolution = {'atrack' : int(np.round(200 / sar_meta.pixel_atrack_m)), 'xtrack': int(np.round(200 / sar_meta.pixel_xtrack_m))}\n",
    "resolution"
   ]
  },
  {
   "cell_type": "code",
   "execution_count": null,
   "metadata": {},
   "outputs": [],
   "source": [
    "sar_ds = xsar.open_dataset(sar_meta, resolution=resolution)\n",
    "sar_ds"
   ]
  },
  {
   "cell_type": "markdown",
   "metadata": {},
   "source": [
    "## Extract a sub image of 10*10km around a lon/lat point\n",
    "\n",
    "### Convert (lon,lat) to (atrack, xtrack)\n",
    "we can use [sar_meta.ll2coords](../basic_api.rst#xsar.SentinelMeta.ll2coords) to convert (lon,lat) to (atrack, xtrack):"
   ]
  },
  {
   "cell_type": "code",
   "execution_count": null,
   "metadata": {},
   "outputs": [],
   "source": [
    "# from a shapely object\n",
    "point_lonlat =  sar_meta.footprint.centroid\n",
    "point_coords = sar_meta.ll2coords(point_lonlat.x, point_lonlat.y)\n",
    "point_coords"
   ]
  },
  {
   "cell_type": "markdown",
   "metadata": {},
   "source": [
    "The result is floating, because it is the position inside the pixel.\n",
    "If real indexes from existing dataset is needed, just pass the `dataset=` keyword. \n",
    "Result will be the nearest (atrack, xtrack) in the dataset"
   ]
  },
  {
   "cell_type": "code",
   "execution_count": null,
   "metadata": {},
   "outputs": [],
   "source": [
    "point_coords = sar_meta.ll2coords(point_lonlat.x, point_lonlat.y, dataset=sar_ds)\n",
    "point_coords"
   ]
  },
  {
   "cell_type": "markdown",
   "metadata": {},
   "source": [
    "### Extract the sub-image"
   ]
  },
  {
   "cell_type": "code",
   "execution_count": null,
   "metadata": {},
   "outputs": [],
   "source": [
    "box_size = 10000 # 10km\n",
    "dist = {'atrack' : int(np.round(box_size / 2 / sar_meta.pixel_atrack_m)), 'xtrack': int(np.round(box_size / 2 / sar_meta.pixel_xtrack_m))}\n",
    "dist"
   ]
  },
  {
   "cell_type": "code",
   "execution_count": null,
   "metadata": {},
   "outputs": [],
   "source": [
    "# select 10*10 km around point_coords\n",
    "sar_ds = sar_ds.sel(atrack=slice(point_coords[0] - dist['atrack'], point_coords[0] + dist['atrack']), xtrack=slice(point_coords[1] - dist['xtrack'], point_coords[1] + dist['xtrack']))\n",
    "sar_ds"
   ]
  }
 ],
 "metadata": {
  "language_info": {
   "name": "python",
   "pygments_lexer": "ipython3"
  }
 },
 "nbformat": 4,
 "nbformat_minor": 4
}
